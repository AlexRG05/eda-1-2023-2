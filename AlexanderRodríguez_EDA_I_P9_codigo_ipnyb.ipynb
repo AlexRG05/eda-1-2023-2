{
  "metadata": {
    "language_info": {
      "codemirror_mode": {
        "name": "python",
        "version": 3
      },
      "file_extension": ".py",
      "mimetype": "text/x-python",
      "name": "python",
      "nbconvert_exporter": "python",
      "pygments_lexer": "ipython3",
      "version": "3.8"
    },
    "kernelspec": {
      "name": "python",
      "display_name": "Python (Pyodide)",
      "language": "python"
    },
    "colab": {
      "provenance": [],
      "include_colab_link": true
    }
  },
  "nbformat_minor": 0,
  "nbformat": 4,
  "cells": [
    {
      "cell_type": "markdown",
      "metadata": {
        "id": "view-in-github",
        "colab_type": "text"
      },
      "source": [
        "<a href=\"https://colab.research.google.com/github/AlexRG05/eda-1-2023-2/blob/main/AlexanderRodr%C3%ADguez_EDA_I_P9_codigo_ipnyb.ipynb\" target=\"_parent\"><img src=\"https://colab.research.google.com/assets/colab-badge.svg\" alt=\"Open In Colab\"/></a>"
      ]
    },
    {
      "cell_type": "code",
      "source": [
        "fgit clone https://github.com/AlexRG05/eda-1-2023-2.git"
      ],
      "metadata": {
        "colab": {
          "base_uri": "https://localhost:8080/",
          "height": 132
        },
        "id": "OR2kAeiUdVXN",
        "outputId": "43d19ee5-85b1-491b-efff-fcc750b4b82d"
      },
      "execution_count": 3,
      "outputs": [
        {
          "output_type": "error",
          "ename": "SyntaxError",
          "evalue": "ignored",
          "traceback": [
            "\u001b[0;36m  File \u001b[0;32m\"<ipython-input-3-9ab148926f91>\"\u001b[0;36m, line \u001b[0;32m1\u001b[0m\n\u001b[0;31m    fgit clone https://github.com/AlexRG05/eda-1-2023-2.git\u001b[0m\n\u001b[0m                                                       ^\u001b[0m\n\u001b[0;31mSyntaxError\u001b[0m\u001b[0;31m:\u001b[0m invalid decimal literal\n"
          ]
        }
      ]
    },
    {
      "cell_type": "code",
      "source": [
        " x = 10\n",
        " print(x)\n",
        "cadena = \"Hola mundo\"\n",
        "print(cadena)"
      ],
      "metadata": {
        "id": "R6Ad_IQ8ZWIG"
      },
      "execution_count": null,
      "outputs": []
    },
    {
      "cell_type": "raw",
      "source": [
        "el primer codigo en la primer linea se le asiga a \"x\" el valor 10 y este se imprime en la segunda linea, en la tercer linea de codigo se declra cadena sea igual a hola mundo y por ultimo se imprime la cadena "
      ],
      "metadata": {
        "id": "R6a5moNCZWIK"
      }
    },
    {
      "cell_type": "code",
      "source": [
        "x = y = z = 10\n",
        "print(x,y,z)"
      ],
      "metadata": {
        "id": "WmSN15nGZWIK"
      },
      "execution_count": null,
      "outputs": []
    },
    {
      "cell_type": "raw",
      "source": [
        "en el segundo codigo a las variables \"x\",\"y\",\"z\" se le aigna el valor 10 despues se imprimen esas variiables con el valor asignado"
      ],
      "metadata": {
        "id": "sjfe4byQZWIM"
      }
    },
    {
      "cell_type": "code",
      "source": [
        "type(x)\n",
        "type(cadena)"
      ],
      "metadata": {
        "id": "du3a5VWeZWIN"
      },
      "execution_count": null,
      "outputs": []
    },
    {
      "cell_type": "raw",
      "source": [
        "en el tercer codigo se implementa una funcion para saber el tipo de variable que es \"x\" y que tipo de variable es la palabra cadena"
      ],
      "metadata": {
        "id": "jgfsPFlWZWIO"
      }
    },
    {
      "cell_type": "code",
      "source": [
        "x = \"Hola mundo\"\n",
        "cadena = 10\n",
        "type(x)\n",
        "type(cadena)"
      ],
      "metadata": {
        "id": "sjM8b1GBZWIO"
      },
      "execution_count": null,
      "outputs": []
    },
    {
      "cell_type": "raw",
      "source": [
        "en el 4to codigo se le asina la palbra hola mundo a x y a la palbra cadena se le asigna el valor de 10 al ultimo del codigo se usan las funciones type pra verificar que tipod e dato es la palabra cadena y la variable x"
      ],
      "metadata": {
        "id": "tsBFo7sXZWIP"
      }
    },
    {
      "cell_type": "code",
      "source": [
        "SEGUNDOS_POR_DIA = 60 * 60 * 24\n",
        "PI = 3.14"
      ],
      "metadata": {
        "id": "jWZXSxxDZWIP"
      },
      "execution_count": null,
      "outputs": []
    },
    {
      "cell_type": "raw",
      "source": [
        "en este codigo se utilizan en mayusculas las palabra segundos por dia porque esta funge como variable constante y por eso se ponen como mayuscaulas las dos en este caso pi y segundos por dia."
      ],
      "metadata": {
        "id": "zOGJ4on2ZWIQ"
      }
    },
    {
      "cell_type": "code",
      "source": [
        "cadena1 = 'Hola'\n",
        "cadena2 = \"Mundo\"\n",
        "print(cadena1)\n",
        "print(cadena2)\n",
        "concat_cadenas = cadena1 + cadena2\n",
        "print(concat_cadenas)\n"
      ],
      "metadata": {
        "id": "n6TqdAC-ZWIR"
      },
      "execution_count": null,
      "outputs": []
    },
    {
      "cell_type": "raw",
      "source": [
        "en este codigo se utilizan las cadenas en las cadena 1 se le asigna la palabra Hola con comilla simple porque funge como cadena principal y a la cadena 2 se le asigna la palabra Mundo y este funge como subcadena por eso las 2 comillas  en la linea 3 y 4 se imprimen ambas cadenas  en la linea 5 se conectan ambas cadenas y en la linea 6 se imprimen ya las cadenas conectadas respectivamente"
      ],
      "metadata": {
        "id": "Fr3DxyuHZWIR"
      }
    },
    {
      "cell_type": "code",
      "source": [
        "num_cadena = conact_cadenas +' '+ str(3)\n",
        "print(num_cadena)"
      ],
      "metadata": {
        "id": "GlUQ2OVSZWIR"
      },
      "execution_count": null,
      "outputs": []
    },
    {
      "cell_type": "raw",
      "source": [
        "en la linea 1 del codigo anterior se utiliza la funcion str para conectar un numero a una cadena y en la linea 2 se imprime la cadena con el numero que se conecto a esa cadena"
      ],
      "metadata": {
        "id": "MB6B_P7JZWIS"
      }
    },
    {
      "cell_type": "code",
      "source": [
        "num_cadena = \"{} {} {}\" ,format(cadena1, cadena2, 3)\n",
        "print(num_cadena)"
      ],
      "metadata": {
        "id": "EJuN1szrZWIS"
      },
      "execution_count": null,
      "outputs": []
    },
    {
      "cell_type": "raw",
      "source": [
        "en el codigo anterior se aplican los corchetes para imprimir el valor de la cadena en el lugar de los corchetes y en la linea 2 se imprime dicha cadena que le asignamso dichos numeros que se imprimen en lugar de los parentesis y se imrpime con dichos valores ya sustituidos en los corchetes."
      ],
      "metadata": {
        "id": "2EBNWSaUZWIT"
      }
    },
    {
      "cell_type": "code",
      "source": [
        "num_cadena = \"cambiando el orden: {1} {2} {0} #\",format(cadena1, cadena2, 3)\n",
        "print(num_cadena)"
      ],
      "metadata": {
        "id": "nBkW4aedZWIU"
      },
      "execution_count": null,
      "outputs": []
    },
    {
      "cell_type": "raw",
      "source": [
        "se utiliza los corchetes dentro de eso corchestes un numero para imprimir el valor de la variable que se encuentran en dichas posiciones y format porque dentro dela funcion format se imprimen  esos valores."
      ],
      "metadata": {
        "id": "J7LdDS0lZWIV"
      }
    },
    {
      "cell_type": "code",
      "source": [
        "print( 1 + 5 )\n",
        "print( 6 + 1 )\n",
        "print( 19 ÷ 6)\n",
        "print( 100 / 50)\n",
        "print(10 % 2)\n",
        "print((20 + 1) + (10 + 1) / 10)\n",
        "print( 2**2)"
      ],
      "metadata": {
        "id": "iHP6XvAIZWIW"
      },
      "execution_count": null,
      "outputs": []
    },
    {
      "cell_type": "raw",
      "source": [
        "en el codigo se van imprimiendo las operadores aritmeticos de la suma,multiplicacion division la potencia etc."
      ],
      "metadata": {
        "id": "k_fmEMD_ZWIW"
      }
    },
    {
      "cell_type": "code",
      "source": [
        "print (7 < 5)\n",
        "print (7 > 5)\n",
        "print ((11 * 3)+2 == 36 - 1)\n",
        "print((11 * 3)+2 >= 36)\n",
        "print(\"curso\" != \"CuRsO\")"
      ],
      "metadata": {
        "id": "svU3dAZZZWIX"
      },
      "execution_count": null,
      "outputs": []
    },
    {
      "cell_type": "raw",
      "source": [
        "en este se codigo se utilizan los operadores de comparacion para saber si un valor es falso o verdadero respectivamente."
      ],
      "metadata": {
        "id": "5JuyK6Z9ZWIX"
      }
    },
    {
      "cell_type": "code",
      "source": [
        "lista_diasDelMes=[31,28,31,30,31,30,31,31,30,31,30,31]\n",
        "print (lista_diasDelMes)\n",
        "print (lista_diasDelMes[0])\n",
        "print (lista_diasDelMes[6])\n",
        "print (Lista_diasDelMes[11])"
      ],
      "metadata": {
        "id": "E-VcK8zXZWIY"
      },
      "execution_count": null,
      "outputs": []
    },
    {
      "cell_type": "raw",
      "source": [
        "se implementa la variable dia del mes y se le asigana un arreglo de 9 elementos despues se imprimen los valores de el arreglo en sus respectivas posiciones."
      ],
      "metadata": {
        "id": "P52rT-1ZZWIZ"
      }
    },
    {
      "cell_type": "code",
      "source": [
        "lista_numeros=[['cero', 0],['uno', 1, 'UNO'],['dos', 2], ['tres', 3], ['cuatro', 4], ['X', 5]]\n",
        "print (lista_numeros)\n",
        "print (lista_numeros[0])\n",
        "print (lista_numeros[1])\n",
        "print (lista_numeros[2][0])\n",
        "print (lista_numeros[2][1])\n",
        "print (lista_numeros[1][0])\n",
        "print (lista_numeros[1][1])\n",
        "print (lista_numeros[1][2])\n"
      ],
      "metadata": {
        "id": "c-E6Q4TSZWIZ"
      },
      "execution_count": null,
      "outputs": []
    },
    {
      "cell_type": "raw",
      "source": [
        "en el codigo se le asigna la variable numeros un arreglo de las posiciones de cda cada arreglo con sus respectivos valores y despues se imprime la lita completa y depsue se imprime las posibiones del arreglo que se le asigno a la lista de numeros."
      ],
      "metadata": {
        "id": "VdxMH2DaZWIa"
      }
    },
    {
      "cell_type": "code",
      "source": [
        "lista_numeros[5][0] = \"cinco\"\n",
        "print(lista_numeros[5])"
      ],
      "metadata": {
        "id": "b8WAY0jAZWIa"
      },
      "execution_count": null,
      "outputs": []
    },
    {
      "cell_type": "raw",
      "source": [
        "en el codigo anterios se le asigna un arreglo que lleva las posiciones 5 y 0 y se le pone como nombre 5 y  depsue se le imprime ese resultado pero ya cambiado a una de las posiciones de esa lista."
      ],
      "metadata": {
        "id": "Q4KsYMg5ZWIb"
      }
    },
    {
      "cell_type": "code",
      "source": [
        "tupla_diasDelMes=(31,28,31,30,31,30,31,31,30,31,30,31)\n",
        "print (tupla_diasDelMes)\n",
        "print (tupla_diasDelMes[0])\n",
        "print (tupla_diasDelMes[3])\n",
        "print (tupla_diasDelMes[1])"
      ],
      "metadata": {
        "id": "T9-Fn5mKZWIb"
      },
      "execution_count": null,
      "outputs": []
    },
    {
      "cell_type": "raw",
      "source": [
        "en el codigo anterior se le aplica la tupla para ciwerto tipos de elementos, despues en la linea subsecuente se imprime la tupla completa en la lineas siguientes se imprimen los elementos que se asiganron dentro de los arreglos."
      ],
      "metadata": {
        "id": "wNLYVDPiZWIc"
      }
    },
    {
      "cell_type": "code",
      "source": [
        "tupla_numeros=(('cero', 0), ('uno',1, 'UNO'), ('dos', 2), ('tres', 3), ('cuatro', 4), ('X', 5))\n",
        "print (tupla_numeros)\n",
        "print (tupla_numeros[0])\n",
        "print (tupla_numeros[1])\n",
        "print (tupla_numeros[2][0])\n",
        "print (tupla_numeros[2][1])\n",
        "print (tupla_numeros[1][0])\n",
        "print (tupla_numeros[1][1])\n",
        "print (tupla_numeros[1][2])"
      ],
      "metadata": {
        "id": "TCYLzJIwZWIc"
      },
      "execution_count": null,
      "outputs": []
    },
    {
      "cell_type": "raw",
      "source": [
        "priomero se daclra la tupla de elmentos depsues se imprime la tupla completa,despues e imprime las posiciones de la tupla en la posicion 2 y los elementos de esta."
      ],
      "metadata": {
        "id": "giD7h-sEZWIc"
      }
    },
    {
      "cell_type": "code",
      "source": [
        "print (\"valor actual {}\".format(lista_diasDelMes[0]))\n",
        "lista_diasDelMes[0] = 50\n",
        "print (\"valor cambiado {}\".format(lista_diasDelMes[0]))\n",
        "tupla_diasDelMes = 50"
      ],
      "metadata": {
        "id": "QMdE5Q-tZWIe"
      },
      "execution_count": null,
      "outputs": []
    },
    {
      "cell_type": "raw",
      "source": [
        "en el codigo se aplican la tupla y la lista para probra mutabilidad de las funciones lista y tupla."
      ],
      "metadata": {
        "id": "lln1CQc4ZWIe"
      }
    },
    {
      "cell_type": "code",
      "source": [
        "from collections import namedtuple\n",
        "planeta = namedtuple('planeta', ['nombre', 'numero'])\n",
        "planeta1 = planeta('Mercurio', 1)\n",
        "print(planeta1)\n",
        "planeta2 = planeta('Venus', 2)\n",
        "print(planeta1.nombre, planeta1.numero)\n",
        "print(palneta2[0], planeta2[1])\n",
        "print('campos de la tupla: {}'.format(planeta._fields))"
      ],
      "metadata": {
        "id": "L8zmEIRRZWIf"
      },
      "execution_count": null,
      "outputs": []
    },
    {
      "cell_type": "raw",
      "source": [
        "se importan librerias para nombra una tupla, se nombra la tupla 1 y 2 y despues se manda aimprimir el nombre y numero de la tuplas 1 y 2."
      ],
      "metadata": {
        "id": "CROMeid4ZWIg"
      }
    },
    {
      "cell_type": "code",
      "source": [
        "elementos = { 'hidrogeno' : 1, 'helio' : 2, 'carbon' : 6 }\n",
        "print (elementos)\n",
        "print (elementos['hidrogeno'])"
      ],
      "metadata": {
        "id": "yRFr3pBaZWIg"
      },
      "execution_count": null,
      "outputs": []
    },
    {
      "cell_type": "raw",
      "source": [
        "se crea un diccionario se imprimen los elemnetso y  despues e imprime el elemento hidrogeno que le asignamos al cuestioanrio ya creado"
      ],
      "metadata": {
        "id": "vK1pmcUZZWIg"
      }
    },
    {
      "cell_type": "code",
      "source": [
        "elementos['litio'] = 3\n",
        "elementos['nitrogeno'] = 8\n",
        "print(elementos)\n"
      ],
      "metadata": {
        "id": "_O7uNjQaZWIh"
      },
      "execution_count": null,
      "outputs": []
    },
    {
      "cell_type": "raw",
      "source": [
        "se le asigna a elemnetos un  arreglo que contenga el texto litio y nitrogeno y depsues imprimimos los elementos que ya cambiamos."
      ],
      "metadata": {
        "id": "ELdRvEH8ZWJB"
      }
    },
    {
      "cell_type": "code",
      "source": [
        "print (elementos['H'])\n",
        "print (elementos['H']['name'])\n",
        "print (elemnetos['H']['number'])\n",
        "elementos2['H']['weight'] = 4.30\n",
        "print (elementos2['H']['weight'])"
      ],
      "metadata": {
        "id": "uWJ_7HvtZWJB"
      },
      "execution_count": null,
      "outputs": []
    },
    {
      "cell_type": "raw",
      "source": [
        "se imprime la variable H despues variable H y numero despues variable H y nombre y depsues se se asigan a elemntos dos H y el peso\n",
        "y hasta el final se imprime el elmentos 2 con el H y el peso."
      ],
      "metadata": {
        "id": "fxnoWjs7ZWJC"
      }
    },
    {
      "cell_type": "code",
      "source": [
        "elementos2 = {}\n",
        "elementos['H'] = {'name' : 'Hydrogen', 'number' : 1, 'weight' : 1.00794}\n",
        "elementso['He'] = {'name' : 'Helium', 'number' : 2, 'weight' : 4.002602}\n",
        "print (elementos2)"
      ],
      "metadata": {
        "id": "CXOzs0vkZWJC"
      },
      "execution_count": null,
      "outputs": []
    },
    {
      "cell_type": "raw",
      "source": [
        "decalracion de el elementos helio y Hidrogeno numero,peso etc y impreccion de los elementos ya creado un nuevo diccionario."
      ],
      "metadata": {
        "id": "8oUXPWx0ZWJC"
      }
    },
    {
      "cell_type": "code",
      "source": [
        "\n",
        "print (elementos2['H'])\n",
        "print (elementos2['H']['name'])\n",
        "print (elementos2['H']['number'])\n",
        "elementos2 ['H']['weight'] = 4.30\n",
        "print (elementos2['H']['weight'])"
      ],
      "metadata": {
        "id": "UcFeLfTmZWJD"
      },
      "execution_count": null,
      "outputs": []
    },
    {
      "cell_type": "raw",
      "source": [
        "impresion de elemntos de un diccionario y impresion de un elemnto que se cambio de dicho diccionario."
      ],
      "metadata": {
        "id": "jPFE7uD1ZWJD"
      }
    },
    {
      "cell_type": "code",
      "source": [
        "elementos2['H'].update({'gas noble':True})\n",
        "print (elementos['H'])"
      ],
      "metadata": {
        "id": "J9lTwPgeZWJE"
      },
      "execution_count": null,
      "outputs": []
    },
    {
      "cell_type": "raw",
      "source": [
        "se actualiza el valor del elementos 2 del diccionario y se imprime dicho valor que cambio."
      ],
      "metadata": {
        "id": "nI0hyYCaZWJE"
      }
    },
    {
      "cell_type": "code",
      "source": [
        "print (elementos2.items())\n",
        "print (elementos2.keys())"
      ],
      "metadata": {
        "id": "q-QfiyjkZWJF"
      },
      "execution_count": null,
      "outputs": []
    },
    {
      "cell_type": "raw",
      "source": [
        "muestra las llaves y los elementos de dicho diccionario"
      ],
      "metadata": {
        "id": "pzkllXHBZWJF"
      }
    },
    {
      "cell_type": "code",
      "source": [
        "def imprime_nombre(nombre):\n",
        "    print(\"hola \"+nombre)"
      ],
      "metadata": {
        "id": "ho2iYg_7ZWJF"
      },
      "execution_count": null,
      "outputs": []
    },
    {
      "cell_type": "raw",
      "source": [
        "se le asigan un valor a una funcion y se concatena con otra con el operador +."
      ],
      "metadata": {
        "id": "WcMd4p7KZWJG"
      }
    },
    {
      "cell_type": "code",
      "source": [
        "imprime_nombre(\"JJ\")"
      ],
      "metadata": {
        "id": "M-uM0fUTZWJG"
      },
      "execution_count": null,
      "outputs": []
    },
    {
      "cell_type": "raw",
      "source": [
        "se llama a la funcion."
      ],
      "metadata": {
        "id": "9IXSsqgZZWJH"
      }
    },
    {
      "cell_type": "code",
      "source": [
        "def cuadrado(X):\n",
        "    return X**2"
      ],
      "metadata": {
        "id": "NSNALcCkZWJH"
      },
      "execution_count": null,
      "outputs": []
    },
    {
      "cell_type": "raw",
      "source": [
        "se define una funcion y despues esta nos regresa el valor al cuadrado."
      ],
      "metadata": {
        "id": "ego1B22uZWJI"
      }
    },
    {
      "cell_type": "code",
      "source": [
        "x = 5 \n",
        "print(\"El cuadrado de {} es {}\".format(x, cuadrado(x)))"
      ],
      "metadata": {
        "id": "5H8tq-sPZWJI"
      },
      "execution_count": null,
      "outputs": []
    },
    {
      "cell_type": "raw",
      "source": [
        "se le ad un valor a la x y format se utiliza para dar parametro a dicha funcion la cual nos regresa  las llaves de una cadena  y al funcion cuadrado nos regresa un valor.\n"
      ],
      "metadata": {
        "id": "25zKaTFUZWJJ"
      }
    },
    {
      "cell_type": "code",
      "source": [
        "def varios(x):\n",
        "    return x**2, x**3, x**4"
      ],
      "metadata": {
        "id": "dL59aBxVZWJK"
      },
      "execution_count": null,
      "outputs": []
    },
    {
      "cell_type": "raw",
      "source": [
        "se define una funcion que regrese varios valores."
      ],
      "metadata": {
        "id": "l7X1q5dwZWJK"
      }
    },
    {
      "cell_type": "code",
      "source": [
        "val1, val2, val3 = varios(2)\n",
        "print (\"{} {} {}\".format(val1, val2, val3))"
      ],
      "metadata": {
        "id": "nNg51RY_ZWJL"
      },
      "execution_count": null,
      "outputs": []
    },
    {
      "cell_type": "raw",
      "source": [
        "se utiliza vrios valores y se utiliza format pra que estos valores se almacenen en estas variables."
      ],
      "metadata": {
        "id": "K04lswW1ZWJL"
      }
    },
    {
      "cell_type": "code",
      "source": [
        "def cuadrado_default(x=3):\n",
        "    return x**2\n",
        "cuadrado_default()"
      ],
      "metadata": {
        "id": "u_oK7CzRZWJM"
      },
      "execution_count": null,
      "outputs": []
    },
    {
      "cell_type": "raw",
      "source": [
        "se define una funcion con parametro con un valor depsues como la funcion tiene ese valor se llama la funcion sin especificar."
      ],
      "metadata": {
        "id": "2W-I7WDOZWJM"
      }
    },
    {
      "cell_type": "code",
      "source": [
        "val4, _, val5 = varios(2)\n",
        "print(\"{} {}\".format(val4, val5))"
      ],
      "metadata": {
        "id": "k6a2QoPlZWJM"
      },
      "execution_count": null,
      "outputs": []
    },
    {
      "cell_type": "raw",
      "source": [
        "primero regresa tres valores pero al final imprime solo los valores 1 y 2"
      ],
      "metadata": {
        "id": "Zf0PVRm7ZWJN"
      }
    },
    {
      "cell_type": "code",
      "source": [
        "vg = 'Global'"
      ],
      "metadata": {
        "id": "cHkioOHiZWJN"
      },
      "execution_count": null,
      "outputs": []
    },
    {
      "cell_type": "raw",
      "source": [
        "se crea una variable global"
      ],
      "metadata": {
        "id": "h8v8nvcMZWJO"
      }
    },
    {
      "cell_type": "code",
      "source": [
        "def funcion_v1():\n",
        "    print(vg)"
      ],
      "metadata": {
        "id": "nKuIFrkAZWJP"
      },
      "execution_count": null,
      "outputs": []
    },
    {
      "cell_type": "raw",
      "source": [
        "se crea funcion con una variable global y se imprime esta."
      ],
      "metadata": {
        "id": "7b9qvxGCZWJP"
      }
    },
    {
      "cell_type": "code",
      "source": [
        "funcion_v1()\n",
        "print(vg)"
      ],
      "metadata": {
        "id": "HoXId5GhZWJQ"
      },
      "execution_count": null,
      "outputs": []
    },
    {
      "cell_type": "raw",
      "source": [
        "se llama a la funcion con la variable global y imprimismos  la variable global."
      ],
      "metadata": {
        "id": "mSIOui5aZWJQ"
      }
    },
    {
      "cell_type": "code",
      "source": [
        "def funcion_v2():\n",
        "    vg = \"Local\"\n",
        "    print(vg)\n",
        "funcion_v2()\n",
        "print(vg)"
      ],
      "metadata": {
        "trusted": true,
        "id": "1XHasJMkZWJR",
        "outputId": "17f956bd-7156-4a8b-8d15-4c2f4e48e28b"
      },
      "execution_count": null,
      "outputs": [
        {
          "ename": "<class 'SyntaxError'>",
          "evalue": "incomplete input (<ipython-input-2-91318648999b>, line 1)",
          "traceback": [
            "\u001b[0;36m  Cell \u001b[0;32mIn[2], line 1\u001b[0;36m\u001b[0m\n\u001b[0;31m    def funcion_v2():\u001b[0m\n\u001b[0m                     ^\u001b[0m\n\u001b[0;31mSyntaxError\u001b[0m\u001b[0;31m:\u001b[0m incomplete input\n"
          ],
          "output_type": "error"
        }
      ]
    },
    {
      "cell_type": "raw",
      "source": [
        "impresion variable global, llamada a la funcion,impresion del valor y se crea otra funcion que tiene el mismo nombre que la variable global."
      ],
      "metadata": {
        "id": "zGr8iLbWZWJS"
      }
    },
    {
      "cell_type": "code",
      "source": [
        "def funcion_v3():\n",
        "    print(vg)\n",
        "    vg = \"Local\"\n",
        "    print(vg)\n",
        "funcion_v3()"
      ],
      "metadata": {
        "id": "zwj6gewLZWJS"
      },
      "execution_count": null,
      "outputs": []
    },
    {
      "cell_type": "raw",
      "source": [
        "se genera error poqreu no se le asigno valor  a v3 se reamplaza variable global se crea en un espacio la variable global y y se imprime el valor de la variable global."
      ],
      "metadata": {
        "id": "HFzxS4ifZWJT"
      }
    },
    {
      "cell_type": "code",
      "source": [
        "def funcion_v4():\n",
        "    global vg\n",
        "    print(vg)\n",
        "    vg = \"Local\"\n",
        "    print(vg)\n",
        "funcion_v4()\n",
        "print(vg)"
      ],
      "metadata": {
        "id": "pGYX9RziZWJU"
      },
      "execution_count": null,
      "outputs": []
    },
    {
      "cell_type": "raw",
      "source": [
        "variable global dentro de una nueva funcion, se agrega la palbra reservada global,se imprime el valor asignado  en vg, antes de ser modificado se asigan el valor y este es impreso y se imprime la variable global ya con el valor modificado."
      ],
      "metadata": {
        "id": "rrxWy54hZWJU"
      }
    },
    {
      "cell_type": "code",
      "source": [
        "def obtenerMayor(param1,param2):\n",
        "    if param1 < param2:\n",
        "        print(\"[] es mayor que []\".format(param2, param1))\n",
        "obtenerMayor[5, 7]\n",
        "obtenerMayor[7, 5]"
      ],
      "metadata": {
        "id": "QLC5XAvEZWJU"
      },
      "execution_count": null,
      "outputs": []
    },
    {
      "cell_type": "raw",
      "source": [
        "se  declara una funcion con parametros 1 y 2 se utiliza una condicion if si param1 es menor que pram2 depues se imprime el que es mayor independientemente de el param1 y 2 y se imprime el mayor pero en el ultimo caso no muestra nada."
      ],
      "metadata": {
        "id": "Lu9NCIyNZWJV"
      }
    },
    {
      "cell_type": "code",
      "source": [
        "x = y = z = 3\n",
        "id x-y-z:\n",
        "    print(True)"
      ],
      "metadata": {
        "id": "3jYinkT4ZWJV"
      },
      "execution_count": null,
      "outputs": []
    },
    {
      "cell_type": "raw",
      "source": [
        "se encadenan mas de una condicion y imprime si es verdadero"
      ],
      "metadata": {
        "id": "A9LPAdqXZWJW"
      }
    },
    {
      "cell_type": "code",
      "source": [
        "def obtenerMayorv2(pram1,param2):\n",
        "    if param1 < param2:\n",
        "        return param2\n",
        "    else:\n",
        "        return param1\n",
        "print (\"El mayor es []\".format( obtenerMayorv2(4, 20) ))\n",
        "print (\"El mayor es []\".format( obtenerMayorv2(11, 6) ))\n"
      ],
      "metadata": {
        "id": "Ary6XK-vZWJW"
      },
      "execution_count": null,
      "outputs": []
    },
    {
      "cell_type": "raw",
      "source": [
        "se imprimen los valores que cumplen las condiciones  asignadas en las lineas 2 a 4"
      ],
      "metadata": {
        "id": "9LS7Udf2ZWJX"
      }
    },
    {
      "cell_type": "code",
      "source": [
        "def obtenerMayor_idiom(param1,param2):\n",
        "    valor = param2 (param1 < param2) else param1\n",
        "    return valor\n",
        "print (\"El mayor es ()\".format( obtenerMayor_idiom(11, 4) ))\n"
      ],
      "metadata": {
        "id": "coRH5e9zZWJX"
      },
      "execution_count": null,
      "outputs": []
    },
    {
      "cell_type": "raw",
      "source": [
        "se comparan valores de los prametrsoq que asignamos."
      ],
      "metadata": {
        "id": "Ym9erYFOZWJY"
      }
    },
    {
      "cell_type": "code",
      "source": [
        "def numeros(num):\n",
        "    if num-1:\n",
        "     print (\"El numero es 1\")\n",
        "    elif num-2:\n",
        "     print (\"El numero es 2\")\n",
        "    elif num-3:\n",
        "     print (\"El numero es 3\")\n",
        "    elif num-4:\n",
        "     print (\"El numero es 4\")\n",
        "    else:\n",
        "     print (\"No hay opcion)"
      ],
      "metadata": {
        "id": "qoKuWUswZWJY"
      },
      "execution_count": null,
      "outputs": []
    },
    {
      "cell_type": "raw",
      "source": [
        "se utiliza 5 nopciones con un menu de 5 opciones  y imprimimos los de 1 al caso 4 y la opcion 5 no imprime nada."
      ],
      "metadata": {
        "id": "4zG8BhoVZWJZ"
      }
    },
    {
      "cell_type": "code",
      "source": [
        "def numeros_idiom(num):\n",
        "    if num in (1,2,3,4):\n",
        "        print(\"Un numero es ()\".format(num))\n",
        "    else:\n",
        "        print (\"() no es una opcion\".format(num))"
      ],
      "metadata": {
        "id": "hBMjvAA-ZWJZ"
      },
      "execution_count": null,
      "outputs": []
    },
    {
      "cell_type": "raw",
      "source": [
        "se evita la repeticion de codigo "
      ],
      "metadata": {
        "id": "VRmteBaBZWJa"
      }
    },
    {
      "cell_type": "code",
      "source": [
        "def obtenerMasGrande(a, b, c):\n",
        "    if a > b:\n",
        "         if a > c:\n",
        "             return a\n",
        "        else: \n",
        "            return c\n",
        "    else:\n",
        "        if b > c:\n",
        "            return b\n",
        "        else:\n",
        "            return c\n",
        "print (\"El mas grande es ()\".format(obtenerMasGrande(7,13,1) ))"
      ],
      "metadata": {
        "trusted": true,
        "id": "6ONLc7QOZWJb"
      },
      "execution_count": null,
      "outputs": []
    },
    {
      "cell_type": "raw",
      "source": [
        "se usa una  estructura selectiva de contral para elegir un elemento mas grande."
      ],
      "metadata": {
        "id": "wbmdU3HsZWJc"
      }
    },
    {
      "cell_type": "code",
      "source": [
        "def cuenta(limite):\n",
        "    i = limite\n",
        "    while True:\n",
        "        print (i)\n",
        "        i = i -1\n",
        "        if i = 0:\n",
        "            break\n",
        "cuenta(10)"
      ],
      "metadata": {
        "id": "fs_J-skTZWJd"
      },
      "execution_count": null,
      "outputs": []
    },
    {
      "cell_type": "raw",
      "source": [
        "ejecucion de n a n-1"
      ],
      "metadata": {
        "id": "greSLvPnZWJd"
      }
    },
    {
      "cell_type": "code",
      "source": [
        "def factorial(n):\n",
        "    i = 1\n",
        "    tmp = 1\n",
        "    while i <n+1:\n",
        "        tmp = tmp + 1\n",
        "        i = i + 1\n",
        "    return tmp\n",
        "print (factorial(4))\n",
        "print (factorial(6))"
      ],
      "metadata": {
        "id": "q5ls2hI-ZWJe"
      },
      "execution_count": null,
      "outputs": []
    },
    {
      "cell_type": "raw",
      "source": [
        "se imprime los factorailaes para esto se usa un while y varias asignaciones de variable."
      ],
      "metadata": {
        "id": "9hsod20XZWJe"
      }
    },
    {
      "cell_type": "code",
      "source": [
        "for = in [1,2,3,4,5]:\n",
        "    print (X)"
      ],
      "metadata": {
        "trusted": true,
        "id": "mn0H2uIEZWJe",
        "outputId": "c9cea470-7278-49b1-fba1-b642f6dc6126"
      },
      "execution_count": null,
      "outputs": [
        {
          "ename": "<class 'SyntaxError'>",
          "evalue": "invalid syntax (<ipython-input-4-0eba40b5b028>, line 1)",
          "traceback": [
            "\u001b[0;36m  Cell \u001b[0;32mIn[4], line 1\u001b[0;36m\u001b[0m\n\u001b[0;31m    for = in (1,2,3,4,5):\u001b[0m\n\u001b[0m        ^\u001b[0m\n\u001b[0;31mSyntaxError\u001b[0m\u001b[0;31m:\u001b[0m invalid syntax\n"
          ],
          "output_type": "error"
        }
      ]
    },
    {
      "cell_type": "raw",
      "source": [
        "se usa for para imprimir elementos enteros"
      ],
      "metadata": {
        "id": "cGiSQPbnZWJf"
      }
    },
    {
      "cell_type": "code",
      "source": [
        "for = in range(5):\n",
        "    print(x)"
      ],
      "metadata": {
        "id": "lzWonuzNZWJg"
      },
      "execution_count": null,
      "outputs": []
    },
    {
      "cell_type": "raw",
      "source": [
        "se le asigna un aparametro a for para impresion de elementos"
      ],
      "metadata": {
        "id": "Y3cz6wAtZWJg"
      }
    },
    {
      "cell_type": "code",
      "source": [
        "for = in range[-5,2]:\n",
        "    print (x)"
      ],
      "metadata": {
        "id": "AsZwgfDuZWJh"
      },
      "execution_count": null,
      "outputs": []
    },
    {
      "cell_type": "raw",
      "source": [
        "se le asigna valores negativos al for."
      ],
      "metadata": {
        "id": "FjnQFIQzZWJh"
      }
    },
    {
      "cell_type": "code",
      "source": [
        "for num in [\"uno\", \"dos\", \"tres\", \"cuatro\"]:\n",
        "    print (num)"
      ],
      "metadata": {
        "id": "bK-xEJoFZWJh"
      },
      "execution_count": null,
      "outputs": []
    },
    {
      "cell_type": "raw",
      "source": [
        "impresion de valor de tipo caracter de un for"
      ],
      "metadata": {
        "id": "cq5opWeXZWJi"
      }
    },
    {
      "cell_type": "code",
      "source": [
        "elementos = ( 'hidrogeno': 1, 'helio': 2, 'carbon': 4)\n",
        "for llave, valor in elementos.items():\n",
        "    print(llave \" = \", valor)"
      ],
      "metadata": {
        "id": "0KRUzamCZWJi"
      },
      "execution_count": null,
      "outputs": []
    },
    {
      "cell_type": "raw",
      "source": [
        "se imprimen las llaves de los ciclos for con elementos."
      ],
      "metadata": {
        "id": "O5uLDxXYZWJj"
      }
    },
    {
      "cell_type": "code",
      "source": [
        "for llave in elementso.keys():\n",
        "    print(llave)"
      ],
      "metadata": {
        "id": "KFwu71GiZWJj"
      },
      "execution_count": null,
      "outputs": []
    },
    {
      "cell_type": "raw",
      "source": [
        "se imprime el valor de la llave.\n",
        "\n",
        "\n",
        "\n"
      ],
      "metadata": {
        "id": "ZGcVUw4PZWJk"
      }
    },
    {
      "cell_type": "code",
      "source": [
        "for valor in elementos.values():\n",
        "    print(valor)"
      ],
      "metadata": {
        "trusted": true,
        "id": "U0F4Ci0DZWJk",
        "outputId": "25898263-ed85-4210-b3fb-490ff565ae1d"
      },
      "execution_count": null,
      "outputs": [
        {
          "ename": "<class 'SyntaxError'>",
          "evalue": "incomplete input (<ipython-input-5-eca025676b6c>, line 1)",
          "traceback": [
            "\u001b[0;36m  Cell \u001b[0;32mIn[5], line 1\u001b[0;36m\u001b[0m\n\u001b[0;31m    for valor in elementos.values():\u001b[0m\n\u001b[0m                                    ^\u001b[0m\n\u001b[0;31mSyntaxError\u001b[0m\u001b[0;31m:\u001b[0m incomplete input\n"
          ],
          "output_type": "error"
        }
      ]
    },
    {
      "cell_type": "raw",
      "source": [
        "se imprimen valores valuados en el for"
      ],
      "metadata": {
        "id": "FIAqhNBGZWJl"
      }
    },
    {
      "cell_type": "code",
      "source": [
        "for idx, x in emimerato(elemento):\n",
        "    print(\"El indice es: () y el elemento: ()\".format(idx, x))"
      ],
      "metadata": {
        "id": "ILzkbLLUZWJl"
      },
      "execution_count": null,
      "outputs": []
    },
    {
      "cell_type": "raw",
      "source": [
        "se utliza enumeracion apara crear un indice"
      ],
      "metadata": {
        "id": "E5bm5Q5jZWJl"
      }
    },
    {
      "cell_type": "code",
      "source": [
        "def cuenta_idiom(limite):\n",
        "    for i in range(limite, 0, -1):\n",
        "        print(i)\n",
        "    else: \n",
        "        print(\"Cuenta finalizada\")\n",
        "cuenta_idiomv2(5)"
      ],
      "metadata": {
        "trusted": true,
        "id": "V_D5cPhzZWJm",
        "outputId": "65126f7d-d0d3-4563-a638-ab2437ba92a7"
      },
      "execution_count": null,
      "outputs": [
        {
          "ename": "<class 'SyntaxError'>",
          "evalue": "incomplete input (<ipython-input-6-ca175e12e66d>, line 2)",
          "traceback": [
            "\u001b[0;36m  Cell \u001b[0;32mIn[6], line 2\u001b[0;36m\u001b[0m\n\u001b[0;31m    for i in range(limite, 0, -1):\u001b[0m\n\u001b[0m                                  ^\u001b[0m\n\u001b[0;31mSyntaxError\u001b[0m\u001b[0;31m:\u001b[0m incomplete input\n"
          ],
          "output_type": "error"
        }
      ]
    },
    {
      "cell_type": "raw",
      "source": [
        "se utiliza la enumeracion para imprimir elementos en ciclos for."
      ],
      "metadata": {
        "id": "JGhJvTibZWJm"
      }
    },
    {
      "cell_type": "code",
      "source": [
        "import math\n",
        "x = math.cos[math.pi]\n",
        "print(x)"
      ],
      "metadata": {
        "id": "T-GnUZTGZWJm"
      },
      "execution_count": null,
      "outputs": []
    },
    {
      "cell_type": "raw",
      "source": [
        "importa para utilizar una biblioteca."
      ],
      "metadata": {
        "id": "U11F9bqUZWJn"
      }
    },
    {
      "cell_type": "code",
      "source": [
        "from math import *\n",
        "x = cos(pi)\n",
        "print(x)"
      ],
      "metadata": {
        "id": "q8Lw0ks1ZWJo"
      },
      "execution_count": null,
      "outputs": []
    },
    {
      "cell_type": "raw",
      "source": [
        "\\se importa libreria pra poder hacer operacion matematica."
      ],
      "metadata": {
        "id": "vGioDme6ZWJo"
      }
    },
    {
      "cell_type": "code",
      "source": [
        "from math import cos, pi\n",
        "x = cos(pi)\n",
        "print(x)"
      ],
      "metadata": {
        "id": "HGlYxgbSZWJp"
      },
      "execution_count": null,
      "outputs": []
    },
    {
      "cell_type": "raw",
      "source": [
        "se utiliza la misma biblioteca pero ahora para tener un resultado  en decimal."
      ],
      "metadata": {
        "id": "qUTHgWFlZWJp"
      }
    },
    {
      "cell_type": "code",
      "source": [
        "print(dir(math))"
      ],
      "metadata": {
        "id": "Rhlh5wOUZWJp"
      },
      "execution_count": null,
      "outputs": []
    },
    {
      "cell_type": "raw",
      "source": [
        "se utiliza print dir masth para saber que funciones tiene dicha biblioteca."
      ],
      "metadata": {
        "id": "T6RrNONkZWJq"
      }
    },
    {
      "cell_type": "code",
      "source": [
        "help(math.log)"
      ],
      "metadata": {
        "id": "n_l3RxtYZWJq"
      },
      "execution_count": null,
      "outputs": []
    },
    {
      "cell_type": "raw",
      "source": [
        "se utiliza help mathpara saber como utilizar dichas funciones."
      ],
      "metadata": {
        "id": "BjQRtcePZWJr"
      }
    },
    {
      "cell_type": "code",
      "source": [
        "import math as mil\n",
        "x = na.cos(ma.pi)\n",
        "print(x)"
      ],
      "metadata": {
        "id": "k65K6tPKZWJr"
      },
      "execution_count": null,
      "outputs": []
    },
    {
      "cell_type": "raw",
      "source": [
        "se utiliza as para llamar a una funcion matematica"
      ],
      "metadata": {
        "id": "ubVYBxi1ZWJs"
      }
    },
    {
      "cell_type": "code",
      "source": [
        "*pylab inline\n",
        "import matplotlib.pyplot as plit\n",
        "from mpl_tonlkits.mplotld import Axes3D\n",
        "x = linspace(0, 3, 20) \n",
        "fig, ax =pit.subplots(faceclor='w', egdecolor='x')\n",
        "ax.plot(x, sin(x), marker=\"0\",color=\"r\", linestyle='None')\n",
        "ax.grid(True)\n",
        "ax.set_xlabel('x')\n",
        "ax.set_ylabel('y')\n",
        "ax.grid(True)\n",
        "ax.legend((\"y - x* + y\"))\n",
        "plit.title('puntos')\n",
        "plit.abov()\n",
        "fig.savefig(\"grafica.png\")"
      ],
      "metadata": {
        "id": "8TjWM4-aZWJs"
      },
      "execution_count": null,
      "outputs": []
    },
    {
      "cell_type": "raw",
      "source": [
        "se utliza la bibliteca math con sus respectivas funciones pra llevar a cabo una grafica en formato imagen definiendo ejes coordenadaos con las funciones de math."
      ],
      "metadata": {
        "id": "LBCg44lHZWJs"
      }
    }
  ]
}